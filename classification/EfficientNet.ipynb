{
 "cells": [
  {
   "cell_type": "code",
   "execution_count": 3,
   "metadata": {},
   "outputs": [],
   "source": [
    "import pandas as pd\n",
    "import torch\n",
    "from torchvision import datasets, transforms\n",
    "from torch.utils.data import DataLoader\n",
    "from torch import nn\n",
    "import numpy as np\n",
    "from sklearn.metrics import accuracy_score, precision_score, recall_score, f1_score, roc_auc_score, confusion_matrix\n",
    "import tensorflow as tf\n",
    "import tensorflow_datasets as tfds\n",
    "from torchvision.models import efficientnet_b0, EfficientNet_B0_Weights\n",
    "import os\n",
    "from sklearn.model_selection import train_test_split\n",
    "import matplotlib.pyplot as plt\n",
    "from torchvision.io import read_image\n",
    "from torch.utils.data import Dataset\n",
    "from sklearn.model_selection import GroupShuffleSplit"
   ]
  },
  {
   "cell_type": "code",
   "execution_count": 4,
   "metadata": {},
   "outputs": [],
   "source": [
    "os.chdir('/scratch4/en520-lmorove1/en520-ikarhul1/melanoma/classification')"
   ]
  },
  {
   "cell_type": "code",
   "execution_count": 5,
   "metadata": {},
   "outputs": [],
   "source": [
    "df = pd.read_csv('../data/HAM10000/HAM10000_metadata.csv')\n",
    "df['image_path'] = df['image_id'] + '.jpg'\n",
    "df['label'] = (df['dx']=='mel').astype(int)\n",
    "df = df.drop(columns=['image_id','dx','dx_type','age','sex','localization'])"
   ]
  },
  {
   "cell_type": "code",
   "execution_count": 6,
   "metadata": {},
   "outputs": [
    {
     "data": {
      "text/html": [
       "<div>\n",
       "<style scoped>\n",
       "    .dataframe tbody tr th:only-of-type {\n",
       "        vertical-align: middle;\n",
       "    }\n",
       "\n",
       "    .dataframe tbody tr th {\n",
       "        vertical-align: top;\n",
       "    }\n",
       "\n",
       "    .dataframe thead th {\n",
       "        text-align: right;\n",
       "    }\n",
       "</style>\n",
       "<table border=\"1\" class=\"dataframe\">\n",
       "  <thead>\n",
       "    <tr style=\"text-align: right;\">\n",
       "      <th></th>\n",
       "      <th>lesion_id</th>\n",
       "      <th>image_path</th>\n",
       "      <th>label</th>\n",
       "    </tr>\n",
       "  </thead>\n",
       "  <tbody>\n",
       "    <tr>\n",
       "      <th>0</th>\n",
       "      <td>HAM_0000118</td>\n",
       "      <td>ISIC_0027419.jpg</td>\n",
       "      <td>0</td>\n",
       "    </tr>\n",
       "    <tr>\n",
       "      <th>1</th>\n",
       "      <td>HAM_0000118</td>\n",
       "      <td>ISIC_0025030.jpg</td>\n",
       "      <td>0</td>\n",
       "    </tr>\n",
       "    <tr>\n",
       "      <th>2</th>\n",
       "      <td>HAM_0002730</td>\n",
       "      <td>ISIC_0026769.jpg</td>\n",
       "      <td>0</td>\n",
       "    </tr>\n",
       "    <tr>\n",
       "      <th>3</th>\n",
       "      <td>HAM_0002730</td>\n",
       "      <td>ISIC_0025661.jpg</td>\n",
       "      <td>0</td>\n",
       "    </tr>\n",
       "    <tr>\n",
       "      <th>4</th>\n",
       "      <td>HAM_0001466</td>\n",
       "      <td>ISIC_0031633.jpg</td>\n",
       "      <td>0</td>\n",
       "    </tr>\n",
       "    <tr>\n",
       "      <th>...</th>\n",
       "      <td>...</td>\n",
       "      <td>...</td>\n",
       "      <td>...</td>\n",
       "    </tr>\n",
       "    <tr>\n",
       "      <th>10010</th>\n",
       "      <td>HAM_0002867</td>\n",
       "      <td>ISIC_0033084.jpg</td>\n",
       "      <td>0</td>\n",
       "    </tr>\n",
       "    <tr>\n",
       "      <th>10011</th>\n",
       "      <td>HAM_0002867</td>\n",
       "      <td>ISIC_0033550.jpg</td>\n",
       "      <td>0</td>\n",
       "    </tr>\n",
       "    <tr>\n",
       "      <th>10012</th>\n",
       "      <td>HAM_0002867</td>\n",
       "      <td>ISIC_0033536.jpg</td>\n",
       "      <td>0</td>\n",
       "    </tr>\n",
       "    <tr>\n",
       "      <th>10013</th>\n",
       "      <td>HAM_0000239</td>\n",
       "      <td>ISIC_0032854.jpg</td>\n",
       "      <td>0</td>\n",
       "    </tr>\n",
       "    <tr>\n",
       "      <th>10014</th>\n",
       "      <td>HAM_0003521</td>\n",
       "      <td>ISIC_0032258.jpg</td>\n",
       "      <td>1</td>\n",
       "    </tr>\n",
       "  </tbody>\n",
       "</table>\n",
       "<p>10015 rows × 3 columns</p>\n",
       "</div>"
      ],
      "text/plain": [
       "         lesion_id        image_path  label\n",
       "0      HAM_0000118  ISIC_0027419.jpg      0\n",
       "1      HAM_0000118  ISIC_0025030.jpg      0\n",
       "2      HAM_0002730  ISIC_0026769.jpg      0\n",
       "3      HAM_0002730  ISIC_0025661.jpg      0\n",
       "4      HAM_0001466  ISIC_0031633.jpg      0\n",
       "...            ...               ...    ...\n",
       "10010  HAM_0002867  ISIC_0033084.jpg      0\n",
       "10011  HAM_0002867  ISIC_0033550.jpg      0\n",
       "10012  HAM_0002867  ISIC_0033536.jpg      0\n",
       "10013  HAM_0000239  ISIC_0032854.jpg      0\n",
       "10014  HAM_0003521  ISIC_0032258.jpg      1\n",
       "\n",
       "[10015 rows x 3 columns]"
      ]
     },
     "execution_count": 6,
     "metadata": {},
     "output_type": "execute_result"
    }
   ],
   "source": [
    "df"
   ]
  },
  {
   "cell_type": "code",
   "execution_count": 7,
   "metadata": {},
   "outputs": [
    {
     "data": {
      "image/png": "[encoded data removed]",
      "text/plain": [
       "<Figure size 600x400 with 1 Axes>"
      ]
     },
     "metadata": {},
     "output_type": "display_data"
    },
    {
     "name": "stdout",
     "output_type": "stream",
     "text": [
      "melanoma: 11.11 %\n",
      "other: 88.89 %\n"
     ]
    }
   ],
   "source": [
    "proportions = df['label'].value_counts().sort_index()/len(df)\n",
    "plt.figure(figsize=(6,4))\n",
    "proportions.plot(kind='bar')\n",
    "plt.title('Class Distribution')\n",
    "plt.xlabel('Class Label')\n",
    "plt.ylabel('Number of Images')\n",
    "plt.xticks(ticks=[0,1], labels=['Other', 'Melanoma'], rotation=0)\n",
    "plt.show()\n",
    "proportions = proportions*100\n",
    "print(f'melanoma: {proportions[1]:.4} %')\n",
    "print(f'other: {proportions[0]:.4} %')"
   ]
  },
  {
   "cell_type": "code",
   "execution_count": 8,
   "metadata": {},
   "outputs": [],
   "source": [
    "splitter1 = GroupShuffleSplit(n_splits=1, test_size=0.2, random_state=42)\n",
    "trainval_idx, test_idx = next(splitter1.split(df, groups=df['lesion_id']))\n",
    "trainval_df = df.iloc[trainval_idx]\n",
    "test_df = df.iloc[test_idx]\n",
    "\n",
    "splitter2 = GroupShuffleSplit(n_splits=1, test_size=0.125, random_state=42)\n",
    "train_idx, val_idx = next(splitter2.split(trainval_df, groups=trainval_df['lesion_id']))\n",
    "train_df = trainval_df.iloc[train_idx]\n",
    "val_df = trainval_df.iloc[val_idx]"
   ]
  },
  {
   "cell_type": "code",
   "execution_count": 9,
   "metadata": {},
   "outputs": [
    {
     "data": {
      "image/png": "[encoded data removed]",
      "text/plain": [
       "<Figure size 1000x400 with 3 Axes>"
      ]
     },
     "metadata": {},
     "output_type": "display_data"
    }
   ],
   "source": [
    "train_proportions = train_df['label'].value_counts().sort_index()/len(train_df)\n",
    "val_proportions = val_df['label'].value_counts().sort_index()/len(val_df)\n",
    "test_proportions = test_df['label'].value_counts().sort_index()/len(test_df)\n",
    "fig, axes = plt.subplots(1, 3, figsize=(10, 4), sharey=True)\n",
    "train_proportions.plot.bar(ax=axes[0])\n",
    "axes[0].set_title('Train Set')\n",
    "axes[0].set_ylabel('Proportion')\n",
    "axes[0].set_xticklabels(axes[0].get_xticklabels(), rotation=90)\n",
    "val_proportions.plot.bar(ax=axes[1])\n",
    "axes[1].set_title('Validation Set')\n",
    "axes[1].set_xticklabels(axes[1].get_xticklabels(), rotation=90)\n",
    "test_proportions.plot.bar(ax=axes[2])\n",
    "axes[2].set_title('Test Set')\n",
    "axes[2].set_xticklabels(axes[2].get_xticklabels(), rotation=90)\n",
    "fig.suptitle('Class Distribution')\n",
    "plt.tight_layout(rect=[0, 0, 1, 0.95])\n",
    "plt.show()"
   ]
  },
  {
   "cell_type": "code",
   "execution_count": 10,
   "metadata": {},
   "outputs": [],
   "source": [
    "class MelanomaDataset(Dataset):\n",
    "    def __init__(self, df, img_dir, transform=None):\n",
    "        self.df = df\n",
    "        self.img_dir = img_dir\n",
    "        self.transform = transform\n",
    "\n",
    "    def __len__(self):\n",
    "        return len(self.df)\n",
    "\n",
    "    def __getitem__(self, idx):\n",
    "        img_path = os.path.join(self.img_dir, self.df.iloc[idx]['image_path'])\n",
    "        image = read_image(img_path).float()/255.0\n",
    "        label = torch.tensor(self.df.iloc[idx]['label'], dtype=torch.float32)\n",
    "        \n",
    "        if self.transform:\n",
    "            image = self.transform(image)\n",
    "            \n",
    "        return image, label"
   ]
  },
  {
   "cell_type": "code",
   "execution_count": 11,
   "metadata": {},
   "outputs": [],
   "source": [
    "transforms = transforms.Compose([transforms.Resize(256),\n",
    "                                 transforms.CenterCrop(224),\n",
    "                                 transforms.Normalize([0.485, 0.456, 0.406], [0.229, 0.224, 0.225])])\n",
    "\n",
    "train_dataset = MelanomaDataset(train_df, '../data/HAM10000/images', transforms)\n",
    "test_dataset = MelanomaDataset(test_df, '../data/HAM10000/images', transforms)\n",
    "\n",
    "train_loader = DataLoader(train_dataset, batch_size=32, shuffle=True)\n",
    "test_loader = DataLoader(test_dataset, batch_size=32)"
   ]
  },
  {
   "cell_type": "code",
   "execution_count": 12,
   "metadata": {},
   "outputs": [],
   "source": [
    "device = torch.device('cuda' if torch.cuda.is_available() else 'cpu')"
   ]
  },
  {
   "cell_type": "code",
   "execution_count": 13,
   "metadata": {},
   "outputs": [
    {
     "data": {
      "text/plain": [
       "device(type='cpu')"
      ]
     },
     "execution_count": 13,
     "metadata": {},
     "output_type": "execute_result"
    }
   ],
   "source": [
    "device"
   ]
  },
  {
   "cell_type": "code",
   "execution_count": 14,
   "metadata": {},
   "outputs": [],
   "source": [
    "weights = EfficientNet_B0_Weights.IMAGENET1K_V1\n",
    "model = efficientnet_b0(weights=weights)\n",
    "model.classifier[1] = nn.Linear(model.classifier[1].in_features, 1)\n",
    "model = model.to(device)"
   ]
  },
  {
   "cell_type": "code",
   "execution_count": 13,
   "metadata": {},
   "outputs": [],
   "source": [
    "num_pos = (train_df['label'] == 1).sum()\n",
    "num_neg = (train_df['label'] == 0).sum()\n",
    "pos_weight = torch.tensor([num_neg / num_pos], dtype=torch.float32).to(device)"
   ]
  },
  {
   "cell_type": "code",
   "execution_count": null,
   "metadata": {},
   "outputs": [],
   "source": [
    "criterion = nn.BCEWithLogitsLoss(pos_weight=pos_weight)\n",
    "optim = torch.optim.Adam(model.parameters(), lr=0.001)\n",
    "\n",
    "epochs = 10\n",
    "losses = []\n",
    "\n",
    "for epoch in range(epochs):\n",
    "    model.train()\n",
    "    for batch_idx, (data, targets) in enumerate(train_loader):\n",
    "        data = data.to(device)\n",
    "        targets = targets.unsqueeze(1).float().to(device)\n",
    "        pred = model(data)\n",
    "        loss = criterion(pred, targets)\n",
    "\n",
    "        optim.zero_grad()\n",
    "        loss.backward()\n",
    "        optim.step()\n",
    "\n",
    "    losses.append(loss.item())\n",
    "    print(f'Epoch {epoch+1}/{epochs}, Loss: {loss.item():.4f}')"
   ]
  },
  {
   "cell_type": "code",
   "execution_count": null,
   "metadata": {},
   "outputs": [],
   "source": [
    "def evaluate_model(model, test_loader):\n",
    "    model.eval()\n",
    "    \n",
    "    all_preds = []\n",
    "    all_probs = []\n",
    "    all_targets = []\n",
    "\n",
    "    with torch.no_grad():\n",
    "        for data, targets in test_loader:  \n",
    "            outputs = model(data)\n",
    "            probs = torch.sigmoid(outputs).squeeze()\n",
    "            preds = (probs > 0.5).float()\n",
    "            all_preds.extend(preds.cpu().numpy())\n",
    "            all_probs.extend(probs.cpu().numpy())\n",
    "            all_targets.extend(targets.cpu().numpy())\n",
    "\n",
    "    all_preds = np.array(all_preds)\n",
    "    all_probs = np.array(all_probs)\n",
    "    all_targets = np.array(all_targets)\n",
    "\n",
    "    accuracy = accuracy_score(all_targets, all_preds)\n",
    "    precision = precision_score(all_targets, all_preds, zero_division=0)\n",
    "    recall = recall_score(all_targets, all_preds)\n",
    "    f1 = f1_score(all_targets, all_preds)\n",
    "\n",
    "    try:\n",
    "        auc = roc_auc_score(all_targets, all_probs)\n",
    "    except:\n",
    "        auc = 0.0\n",
    "\n",
    "    cm = confusion_matrix(all_targets, all_preds)\n",
    "    \n",
    "    return {'accuracy': accuracy,\n",
    "            'precision': precision,\n",
    "            'recall': recall,\n",
    "            'f1_score': f1,\n",
    "            'auc': auc,\n",
    "            'confusion_matrix': cm,\n",
    "            'predictions': all_preds,\n",
    "            'probabilities': all_probs,\n",
    "            'targets': all_targets}"
   ]
  },
  {
   "cell_type": "code",
   "execution_count": null,
   "metadata": {},
   "outputs": [
    {
     "name": "stdout",
     "output_type": "stream",
     "text": [
      "Accuracy: 0.9070\n",
      "Precision: 0.9231\n",
      "Recall: 0.8880\n",
      "F1 Score: 0.9052\n",
      "AUC: 0.9717\n"
     ]
    }
   ],
   "source": [
    "results = evaluate_model(model, test_loader)\n",
    "\n",
    "print(f\"Accuracy: {results['accuracy']:.4f}\")\n",
    "print(f\"Precision: {results['precision']:.4f}\")\n",
    "print(f\"Recall: {results['recall']:.4f}\")\n",
    "print(f\"F1 Score: {results['f1_score']:.4f}\")\n",
    "print(f\"AUC: {results['auc']:.4f}\")"
   ]
  },
  {
   "cell_type": "code",
   "execution_count": null,
   "metadata": {},
   "outputs": [],
   "source": []
  }
 ],
 "metadata": {
  "kernelspec": {
   "display_name": "Python 3 (ipykernel)",
   "language": "python",
   "name": "python3"
  },
  "language_info": {
   "codemirror_mode": {
    "name": "ipython",
    "version": 3
   },
   "file_extension": ".py",
   "mimetype": "text/x-python",
   "name": "python",
   "nbconvert_exporter": "python",
   "pygments_lexer": "ipython3",
   "version": "3.9.21"
  }
 },
 "nbformat": 4,
 "nbformat_minor": 2
}

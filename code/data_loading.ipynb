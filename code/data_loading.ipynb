{
 "cells": [
  {
   "cell_type": "code",
   "execution_count": 2,
   "metadata": {},
   "outputs": [
    {
     "name": "stderr",
     "output_type": "stream",
     "text": [
      "/Users/hyunseo.lee/anaconda3/lib/python3.11/site-packages/torchvision/io/image.py:13: UserWarning: Failed to load image Python extension: 'dlopen(/Users/hyunseo.lee/anaconda3/lib/python3.11/site-packages/torchvision/image.so, 0x0006): Symbol not found: (__ZN3c1017RegisterOperatorsD1Ev)\n",
      "  Referenced from: '/Users/hyunseo.lee/anaconda3/lib/python3.11/site-packages/torchvision/image.so'\n",
      "  Expected in: '/Users/hyunseo.lee/anaconda3/lib/python3.11/site-packages/torch/lib/libtorch_cpu.dylib''If you don't plan on using image functionality from `torchvision.io`, you can ignore this warning. Otherwise, there might be something wrong with your environment. Did you have `libjpeg` or `libpng` installed before building `torchvision` from source?\n",
      "  warn(\n"
     ]
    }
   ],
   "source": [
    "import torch\n",
    "import torch.nn as nn\n",
    "import torch.optim as optim\n",
    "import itertools\n",
    "from torch.utils.data import DataLoader\n",
    "from torchvision import datasets, transforms\n",
    "import matplotlib.pyplot as plt\n",
    "import os\n",
    "from PIL import Image"
   ]
  },
  {
   "cell_type": "code",
   "execution_count": 4,
   "metadata": {},
   "outputs": [
    {
     "name": "stdout",
     "output_type": "stream",
     "text": [
      "656\n",
      "5000\n"
     ]
    }
   ],
   "source": [
    "# load ddi and HAM10000 data\n",
    "ddi_data_dir = \"../data/ddi_cropped\"\n",
    "os.listdir(ddi_data_dir)\n",
    "print(len(os.listdir(ddi_data_dir)))\n",
    "\n",
    "ham_data_dir = \"../data/HAM10000\"\n",
    "os.listdir(ham_data_dir)\n",
    "print(len(os.listdir(ham_data_dir)))"
   ]
  },
  {
   "cell_type": "code",
   "execution_count": null,
   "metadata": {},
   "outputs": [
    {
     "name": "stdout",
     "output_type": "stream",
     "text": [
      "393\n"
     ]
    }
   ],
   "source": [
    "# data splitting\n",
    "# train: 60%, val: 20%, test: 20%\n",
    "def split_data(data_dir, train_ratio=0.6, val_ratio=0.2):\n",
    "    all_files = os.listdir(data_dir)\n",
    "    num_files = len(all_files)\n",
    "    \n",
    "    train_size = int(num_files * train_ratio)\n",
    "    val_size = int(num_files * val_ratio)\n",
    "    \n",
    "    train_files = all_files[:train_size]\n",
    "    val_files = all_files[train_size:train_size + val_size]\n",
    "    test_files = all_files[train_size + val_size:]\n",
    "    \n",
    "    return train_files, val_files, test_files\n",
    "\n",
    "train_files, val_files, test_files = split_data(ddi_data_dir)\n",
    "\n",
    "print(len(train_files))"
   ]
  },
  {
   "cell_type": "code",
   "execution_count": null,
   "metadata": {},
   "outputs": [],
   "source": [
    "def load_data()"
   ]
  },
  {
   "cell_type": "code",
   "execution_count": null,
   "metadata": {},
   "outputs": [],
   "source": [
    "# data transformations\n",
    "# torch normalization"
   ]
  },
  {
   "cell_type": "code",
   "execution_count": null,
   "metadata": {},
   "outputs": [],
   "source": []
  }
 ],
 "metadata": {
  "kernelspec": {
   "display_name": "base",
   "language": "python",
   "name": "python3"
  },
  "language_info": {
   "codemirror_mode": {
    "name": "ipython",
    "version": 3
   },
   "file_extension": ".py",
   "mimetype": "text/x-python",
   "name": "python",
   "nbconvert_exporter": "python",
   "pygments_lexer": "ipython3",
   "version": "3.11.4"
  }
 },
 "nbformat": 4,
 "nbformat_minor": 2
}
